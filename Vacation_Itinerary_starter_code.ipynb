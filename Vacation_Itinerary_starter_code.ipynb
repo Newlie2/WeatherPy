{
 "cells": [
  {
   "cell_type": "markdown",
   "metadata": {},
   "source": [
    "# Deliverable 3. Create a Travel Itinerary Map\n",
    "\n",
    "----\n",
    "\n",
    "1. Create a folder called `Vacation_Itinerary` to store all the files for this deliverable.\n",
    "\n",
    "2. Download the `Vacation_Itinerary_starter_code.ipynb` file into your `Vacation_Itinerary` folder and rename it `Vacation_Itinerary.ipynb`.\n",
    "\n",
    "3. Make sure the initial dependencies and the Geoapify API key are imported.\n",
    "\n",
    "4. From your `Vacation_Search` folder from Deliverable 2, import the `WeatherPy_vacation.csv` file as a DataFrame named `vacation_df`.\n",
    "\n",
    "5. Use GeoViews to create a map that shows all the cities in the `vacation_df` DataFrame. Configure the map as follows:\n",
    "\n",
    "    * The point's size should be the maximum temperature for the city\n",
    "\n",
    "    * The point's color should be the city's name\n",
    "\n",
    "    * Use the `hover_cols` parameter to the the \"Hotel Name\", \"Country\", and \"Current Description\" columns to each point as additional information.\n",
    "\n",
    "6. From the map, *choose four cities* that a customer might want to visit. They should be close together and in the same country. Use the `loc` method to create separate DataFrames for each city on the travel route.\n",
    "\n",
    "    > **Hint:** You will start and end the route in the same city, so the `vacation_start` and `vacation_end` DataFrames will be in the same city.\n",
    "\n",
    "7. Use the Pandas `concat` function to merge the DataFrame from each city in the itinerary to create a new DataFrame named `itinerary_df` to store the itinerary details.\n",
    "\n",
    "8. Use the Pandas `copy` function to create a new DataFrame named `waypoints_df` to store the longitude and latitude for each city in `itinerary_df`.\n",
    "\n",
    "    > **Hint:** You'll use this DataFrame to create a map using GeoViews, so recall that the first column should be the longitude, and the second the latitude.\n",
    "\n",
    "9. Use GeoViews to create a map that shows the four cities in the itinerary.\n",
    "\n",
    "10. Next, you'll use the Geoapify Routing API to find a route between the cities in the itinerary. Review the code that sets the initial parameters and fetches the coordinates from each city to define the `waypoints` parameter by using a `for` loop.\n",
    "\n",
    "    > **Hint:** You can note that the `mode` parameter is set to `drive`, you can play around with other modes as it's shown in [the \"Travel modes\" table](https://apidocs.geoapify.com/docs/routing/#api) in the Geoapify Routing API documentation.\n",
    "\n",
    "11. Use the Geoapify Routing API to retrieve the route's directions for your itinerary.\n",
    "\n",
    "12. From the JSON response, store the route's legs coordinates in a variable called `legs`.\n",
    "\n",
    "13. Loop through the route legs coordinates to fetch the latitude and longitude for each step. Store the latitude and longitude values into two Python lists named `longitude` and `latitude`.\n",
    "\n",
    "14. Use the `longitude` and `latitude` Python lists to create a new DataFrame named `route_df`.\n",
    "\n",
    "15. Use the GeoViews `Path` function to configure a line plot by using `route_df`. Set a custom color and width for the line that may contrast with the map.\n",
    "\n",
    "16. Use the asterisk operator to display a composed plot that shows the itinerary's route over the map containing the cities. \n",
    "\n",
    "17. Save your map to the `Vacation_Itinerary` folder as `WeatherPy_travel_map.png`.\n",
    "\n",
    "---"
   ]
  },
  {
   "cell_type": "markdown",
   "metadata": {},
   "source": [
    "## Make sure the initial dependencies and the Geoapify API key are imported"
   ]
  },
  {
   "cell_type": "code",
   "execution_count": 142,
   "metadata": {},
   "outputs": [],
   "source": [
    "# !conda install -c pyviz hvplot geoviews"
   ]
  },
  {
   "cell_type": "code",
   "execution_count": 143,
   "metadata": {},
   "outputs": [],
   "source": [
    "# Dependencies and Setup\n",
    "# import geoviews as gv\n",
    "import hvplot.pandas\n",
    "import pandas as pd\n",
    "import requests\n",
    "\n",
    "# Turn off warning messages\n",
    "import warnings\n",
    "warnings.filterwarnings(\"ignore\")\n",
    "\n",
    "# # Import API key\n",
    "# # from config import geoapify_key\n",
    "geoapify_key = \"\"\n"
   ]
  },
  {
   "cell_type": "markdown",
   "metadata": {},
   "source": [
    "## From your `Vacation_Search` folder from Deliverable 2, import the `WeatherPy_vacation.csv` file as a DataFrame named `vacation_df`"
   ]
  },
  {
   "cell_type": "code",
   "execution_count": 144,
   "metadata": {},
   "outputs": [
    {
     "data": {
      "text/html": [
       "<div>\n",
       "<style scoped>\n",
       "    .dataframe tbody tr th:only-of-type {\n",
       "        vertical-align: middle;\n",
       "    }\n",
       "\n",
       "    .dataframe tbody tr th {\n",
       "        vertical-align: top;\n",
       "    }\n",
       "\n",
       "    .dataframe thead th {\n",
       "        text-align: right;\n",
       "    }\n",
       "</style>\n",
       "<table border=\"1\" class=\"dataframe\">\n",
       "  <thead>\n",
       "    <tr style=\"text-align: right;\">\n",
       "      <th></th>\n",
       "      <th>City</th>\n",
       "      <th>Country</th>\n",
       "      <th>Max Temp</th>\n",
       "      <th>Current Description</th>\n",
       "      <th>Lat</th>\n",
       "      <th>Lng</th>\n",
       "      <th>Hotel Name</th>\n",
       "    </tr>\n",
       "  </thead>\n",
       "  <tbody>\n",
       "    <tr>\n",
       "      <th>0</th>\n",
       "      <td>Mataura</td>\n",
       "      <td>NZ</td>\n",
       "      <td>45.12</td>\n",
       "      <td>few clouds</td>\n",
       "      <td>-46.1927</td>\n",
       "      <td>168.8643</td>\n",
       "      <td>No hotel found</td>\n",
       "    </tr>\n",
       "    <tr>\n",
       "      <th>1</th>\n",
       "      <td>Ushuaia</td>\n",
       "      <td>AR</td>\n",
       "      <td>47.86</td>\n",
       "      <td>few clouds</td>\n",
       "      <td>-54.8000</td>\n",
       "      <td>-68.3000</td>\n",
       "      <td>Arakur</td>\n",
       "    </tr>\n",
       "    <tr>\n",
       "      <th>2</th>\n",
       "      <td>New Norfolk</td>\n",
       "      <td>AU</td>\n",
       "      <td>49.91</td>\n",
       "      <td>overcast clouds</td>\n",
       "      <td>-42.7826</td>\n",
       "      <td>147.0587</td>\n",
       "      <td>Rosie's Inn</td>\n",
       "    </tr>\n",
       "    <tr>\n",
       "      <th>3</th>\n",
       "      <td>Punta Arenas</td>\n",
       "      <td>CL</td>\n",
       "      <td>48.31</td>\n",
       "      <td>broken clouds</td>\n",
       "      <td>-53.1500</td>\n",
       "      <td>-70.9167</td>\n",
       "      <td>Ainil</td>\n",
       "    </tr>\n",
       "    <tr>\n",
       "      <th>4</th>\n",
       "      <td>Alliance</td>\n",
       "      <td>US</td>\n",
       "      <td>44.76</td>\n",
       "      <td>few clouds</td>\n",
       "      <td>40.9153</td>\n",
       "      <td>-81.1059</td>\n",
       "      <td>Comfort Inn</td>\n",
       "    </tr>\n",
       "  </tbody>\n",
       "</table>\n",
       "</div>"
      ],
      "text/plain": [
       "           City Country  Max Temp Current Description      Lat       Lng  \\\n",
       "0       Mataura      NZ     45.12          few clouds -46.1927  168.8643   \n",
       "1       Ushuaia      AR     47.86          few clouds -54.8000  -68.3000   \n",
       "2   New Norfolk      AU     49.91     overcast clouds -42.7826  147.0587   \n",
       "3  Punta Arenas      CL     48.31       broken clouds -53.1500  -70.9167   \n",
       "4      Alliance      US     44.76          few clouds  40.9153  -81.1059   \n",
       "\n",
       "       Hotel Name  \n",
       "0  No hotel found  \n",
       "1          Arakur  \n",
       "2     Rosie's Inn  \n",
       "3           Ainil  \n",
       "4     Comfort Inn  "
      ]
     },
     "execution_count": 144,
     "metadata": {},
     "output_type": "execute_result"
    }
   ],
   "source": [
    "# Read the WeatherPy_vacation.csv into a DataFrame\n",
    "vacation_df = pd.read_csv(\"WeatherPy_vacation.csv\")\n",
    "\n",
    "\n",
    "# Display sample data\n",
    "vacation_df.head()"
   ]
  },
  {
   "cell_type": "markdown",
   "metadata": {},
   "source": [
    "## Use GeoViews to create a map that shows all the cities in the `vacation_df` DataFrame. Configure the map as follows:\n",
    "\n",
    "* The point's size should be the maximum temperature for the city\n",
    "\n",
    "* The point's color should be the city's name\n",
    "\n",
    "* Use the `hover_cols` parameter to the the \"Hotel Name\", \"Country\", and \"Current Description\" columns to each point as additional information."
   ]
  },
  {
   "cell_type": "code",
   "execution_count": 145,
   "metadata": {},
   "outputs": [
    {
     "data": {},
     "metadata": {},
     "output_type": "display_data"
    },
    {
     "data": {
      "application/vnd.holoviews_exec.v0+json": "",
      "text/html": [
       "<div id='4310'>\n",
       "  <div class=\"bk-root\" id=\"2b400b58-8a6d-4165-983c-78a3b05f113f\" data-root-id=\"4310\"></div>\n",
       "</div>\n",
       "<script type=\"application/javascript\">(function(root) {\n",
       "  function embed_document(root) {\n",
       "    var docs_json = {\"e9b239ac-5b67-4a53-a444-42338a0b3b72\":{\"defs\":[{\"extends\":null,\"module\":null,\"name\":\"ReactiveHTML1\",\"overrides\":[],\"properties\":[]},{\"extends\":null,\"module\":null,\"name\":\"FlexBox1\",\"overrides\":[],\"properties\":[{\"default\":\"flex-start\",\"kind\":null,\"name\":\"align_content\"},{\"default\":\"flex-start\",\"kind\":null,\"name\":\"align_items\"},{\"default\":\"row\",\"kind\":null,\"name\":\"flex_direction\"},{\"default\":\"wrap\",\"kind\":null,\"name\":\"flex_wrap\"},{\"default\":\"flex-start\",\"kind\":null,\"name\":\"justify_content\"}]},{\"extends\":null,\"module\":null,\"name\":\"GridStack1\",\"overrides\":[],\"properties\":[{\"default\":\"warn\",\"kind\":null,\"name\":\"mode\"},{\"default\":null,\"kind\":null,\"name\":\"ncols\"},{\"default\":null,\"kind\":null,\"name\":\"nrows\"},{\"default\":true,\"kind\":null,\"name\":\"allow_resize\"},{\"default\":true,\"kind\":null,\"name\":\"allow_drag\"},{\"default\":[],\"kind\":null,\"name\":\"state\"}]},{\"extends\":null,\"module\":null,\"name\":\"click1\",\"overrides\":[],\"properties\":[{\"default\":\"\",\"kind\":null,\"name\":\"terminal_output\"},{\"default\":\"\",\"kind\":null,\"name\":\"debug_name\"},{\"default\":0,\"kind\":null,\"name\":\"clears\"}]},{\"extends\":null,\"module\":null,\"name\":\"NotificationAreaBase1\",\"overrides\":[],\"properties\":[{\"default\":\"bottom-right\",\"kind\":null,\"name\":\"position\"},{\"default\":0,\"kind\":null,\"name\":\"_clear\"}]},{\"extends\":null,\"module\":null,\"name\":\"NotificationArea1\",\"overrides\":[],\"properties\":[{\"default\":[],\"kind\":null,\"name\":\"notifications\"},{\"default\":\"bottom-right\",\"kind\":null,\"name\":\"position\"},{\"default\":0,\"kind\":null,\"name\":\"_clear\"},{\"default\":[{\"background\":\"#ffc107\",\"icon\":{\"className\":\"fas fa-exclamation-triangle\",\"color\":\"white\",\"tagName\":\"i\"},\"type\":\"warning\"},{\"background\":\"#007bff\",\"icon\":{\"className\":\"fas fa-info-circle\",\"color\":\"white\",\"tagName\":\"i\"},\"type\":\"info\"}],\"kind\":null,\"name\":\"types\"}]},{\"extends\":null,\"module\":null,\"name\":\"Notification\",\"overrides\":[],\"properties\":[{\"default\":null,\"kind\":null,\"name\":\"background\"},{\"default\":3000,\"kind\":null,\"name\":\"duration\"},{\"default\":null,\"kind\":null,\"name\":\"icon\"},{\"default\":\"\",\"kind\":null,\"name\":\"message\"},{\"default\":null,\"kind\":null,\"name\":\"notification_type\"},{\"default\":false,\"kind\":null,\"name\":\"_destroyed\"}]},{\"extends\":null,\"module\":null,\"name\":\"TemplateActions1\",\"overrides\":[],\"properties\":[{\"default\":0,\"kind\":null,\"name\":\"open_modal\"},{\"default\":0,\"kind\":null,\"name\":\"close_modal\"}]},{\"extends\":null,\"module\":null,\"name\":\"MaterialTemplateActions1\",\"overrides\":[],\"properties\":[{\"default\":0,\"kind\":null,\"name\":\"open_modal\"},{\"default\":0,\"kind\":null,\"name\":\"close_modal\"}]}],\"roots\":{\"references\":[{\"attributes\":{},\"id\":\"4361\",\"type\":\"AllLabels\"},{\"attributes\":{\"factors\":[\"Mataura\",\"Ushuaia\",\"New Norfolk\",\"Punta Arenas\",\"Alliance\",\"Albany\",\"San Jose\",\"Esil\",\"Skwierzyna\",\"Olga\",\"Saint George\",\"Tuatapere\",\"Bereznik\",\"Launceston\",\"Lakes Entrance\",\"Bethel\",\"Portland\",\"Palmer\",\"Port Hardy\",\"Kaitangata\",\"Ileza\",\"Komsomolets\",\"Weirton\",\"Fortuna\",\"Havoysund\",\"Olafsvik\",\"Andenes\",\"Prince Rupert\",\"Te Anau\",\"Shizunai\",\"Tabory\",\"Breytovo\",\"Half Moon Bay\",\"Lompoc\",\"Murmashi\",\"Sternberk\",\"Svetlaya\",\"Iwanai\",\"San Ramon\",\"Ust-Kulom\",\"Vestmannaeyjar\",\"Eucaliptus\",\"Grindavik\",\"Redmond\",\"Noshiro\",\"Marienburg\",\"Atocha\",\"Zapolyarnyy\",\"Shihezi\",\"Nantucket\",\"Karasjok\",\"North Branford\",\"Bjornevatn\",\"Birobidzhan\",\"Arosa\"],\"palette\":[\"#1f77b3\",\"#ff7e0e\",\"#2ba02b\",\"#d62628\",\"#9367bc\",\"#8c564b\",\"#e277c1\",\"#7e7e7e\",\"#bcbc21\",\"#16bdcf\",\"#3a0182\",\"#004201\",\"#0fffa8\",\"#5d003f\",\"#bcbcff\",\"#d8afa1\",\"#b80080\",\"#004d52\",\"#6b6400\",\"#7c0100\",\"#6026ff\",\"#ffff9a\",\"#564964\",\"#8cb893\",\"#93fbff\",\"#018267\",\"#90ff00\",\"#8200a0\",\"#ac8944\",\"#5b3400\",\"#ffbff2\",\"#ff6e75\",\"#798cff\",\"#dd00ff\",\"#505646\",\"#004489\",\"#ffbf60\",\"#ff018c\",\"#bdc8cf\",\"#af97b5\",\"#b65600\",\"#017000\",\"#cd87ff\",\"#1cd646\",\"#bfebc3\",\"#7997b5\",\"#a56089\",\"#6e8956\",\"#bc7c75\",\"#8a2844\",\"#00acff\",\"#8ed4ff\",\"#4b6d77\",\"#00d4b1\",\"#9300f2\"]},\"id\":\"4386\",\"type\":\"CategoricalColorMapper\"},{\"attributes\":{\"fill_color\":{\"field\":\"color\",\"transform\":{\"id\":\"4386\"}},\"hatch_color\":{\"field\":\"color\",\"transform\":{\"id\":\"4386\"}},\"line_color\":{\"field\":\"color\",\"transform\":{\"id\":\"4386\"}},\"size\":{\"field\":\"size\"},\"x\":{\"field\":\"Lng\"},\"y\":{\"field\":\"Lat\"}},\"id\":\"4390\",\"type\":\"Scatter\"},{\"attributes\":{\"fill_alpha\":{\"value\":0.2},\"fill_color\":{\"field\":\"color\",\"transform\":{\"id\":\"4386\"}},\"hatch_alpha\":{\"value\":0.2},\"hatch_color\":{\"field\":\"color\",\"transform\":{\"id\":\"4386\"}},\"line_alpha\":{\"value\":0.2},\"line_color\":{\"field\":\"color\",\"transform\":{\"id\":\"4386\"}},\"size\":{\"field\":\"size\"},\"x\":{\"field\":\"Lng\"},\"y\":{\"field\":\"Lat\"}},\"id\":\"4394\",\"type\":\"Scatter\"},{\"attributes\":{\"axis\":{\"id\":\"4336\"},\"coordinates\":null,\"dimension\":1,\"grid_line_color\":null,\"group\":null,\"ticker\":null},\"id\":\"4339\",\"type\":\"Grid\"},{\"attributes\":{\"tools\":[{\"id\":\"4320\"},{\"id\":\"4340\"},{\"id\":\"4341\"},{\"id\":\"4342\"},{\"id\":\"4343\"},{\"id\":\"4344\"}]},\"id\":\"4346\",\"type\":\"Toolbar\"},{\"attributes\":{\"fill_alpha\":{\"value\":0.1},\"fill_color\":{\"field\":\"color\",\"transform\":{\"id\":\"4386\"}},\"hatch_alpha\":{\"value\":0.1},\"hatch_color\":{\"field\":\"color\",\"transform\":{\"id\":\"4386\"}},\"line_alpha\":{\"value\":0.1},\"line_color\":{\"field\":\"color\",\"transform\":{\"id\":\"4386\"}},\"size\":{\"field\":\"size\"},\"x\":{\"field\":\"Lng\"},\"y\":{\"field\":\"Lat\"}},\"id\":\"4391\",\"type\":\"Scatter\"},{\"attributes\":{\"below\":[{\"id\":\"4332\"}],\"center\":[{\"id\":\"4335\"},{\"id\":\"4339\"}],\"frame_height\":500,\"frame_width\":700,\"height\":null,\"left\":[{\"id\":\"4336\"}],\"margin\":[5,5,5,5],\"match_aspect\":true,\"min_border_bottom\":10,\"min_border_left\":10,\"min_border_right\":10,\"min_border_top\":10,\"renderers\":[{\"id\":\"4384\"},{\"id\":\"4395\"}],\"right\":[{\"id\":\"4403\"}],\"sizing_mode\":\"fixed\",\"title\":{\"id\":\"4324\"},\"toolbar\":{\"id\":\"4346\"},\"width\":null,\"x_range\":{\"id\":\"4316\"},\"x_scale\":{\"id\":\"4328\"},\"y_range\":{\"id\":\"4317\"},\"y_scale\":{\"id\":\"4330\"}},\"id\":\"4323\",\"subtype\":\"Figure\",\"type\":\"Plot\"},{\"attributes\":{\"coordinates\":null,\"group\":null,\"level\":\"glyph\",\"tile_source\":{\"id\":\"4381\"}},\"id\":\"4384\",\"type\":\"TileRenderer\"},{\"attributes\":{\"dimension\":\"lon\"},\"id\":\"4355\",\"type\":\"MercatorTicker\"},{\"attributes\":{\"bottom_units\":\"screen\",\"coordinates\":null,\"fill_alpha\":0.5,\"fill_color\":\"lightgrey\",\"group\":null,\"left_units\":\"screen\",\"level\":\"overlay\",\"line_alpha\":1.0,\"line_color\":\"black\",\"line_dash\":[4,4],\"line_width\":2,\"right_units\":\"screen\",\"syncable\":false,\"top_units\":\"screen\"},\"id\":\"4345\",\"type\":\"BoxAnnotation\"},{\"attributes\":{\"axis_label\":\"y\",\"coordinates\":null,\"formatter\":{\"id\":\"4358\"},\"group\":null,\"major_label_policy\":{\"id\":\"4368\"},\"ticker\":{\"id\":\"4357\"}},\"id\":\"4336\",\"type\":\"LinearAxis\"},{\"attributes\":{},\"id\":\"4340\",\"type\":\"SaveTool\"},{\"attributes\":{},\"id\":\"4344\",\"type\":\"ResetTool\"},{\"attributes\":{\"coordinates\":null,\"group\":null,\"text_color\":\"black\",\"text_font_size\":\"12pt\"},\"id\":\"4324\",\"type\":\"Title\"},{\"attributes\":{\"axis\":{\"id\":\"4332\"},\"coordinates\":null,\"grid_line_color\":null,\"group\":null,\"ticker\":null},\"id\":\"4335\",\"type\":\"Grid\"},{\"attributes\":{\"code\":\"\\n        var projections = Bokeh.require(\\\"core/util/projections\\\");\\n        var x = special_vars.data_x\\n        var y = special_vars.data_y\\n        var coords = projections.wgs84_mercator.invert(x, y)\\n        return \\\"\\\" + (coords[1]).toFixed(4)\\n    \"},\"id\":\"4406\",\"type\":\"CustomJSHover\"},{\"attributes\":{\"axis_label\":\"x\",\"coordinates\":null,\"formatter\":{\"id\":\"4356\"},\"group\":null,\"major_label_policy\":{\"id\":\"4361\"},\"ticker\":{\"id\":\"4355\"}},\"id\":\"4332\",\"type\":\"LinearAxis\"},{\"attributes\":{\"click_policy\":\"mute\",\"coordinates\":null,\"group\":null,\"items\":[{\"id\":\"4404\"}],\"location\":[0,0]},\"id\":\"4403\",\"type\":\"Legend\"},{\"attributes\":{\"dimension\":\"lat\"},\"id\":\"4357\",\"type\":\"MercatorTicker\"},{\"attributes\":{\"children\":[{\"id\":\"4311\"},{\"id\":\"4323\"},{\"id\":\"4413\"}],\"margin\":[0,0,0,0],\"name\":\"Row04565\",\"tags\":[\"embedded\"]},\"id\":\"4310\",\"type\":\"Row\"},{\"attributes\":{},\"id\":\"4400\",\"type\":\"UnionRenderers\"},{\"attributes\":{\"dimension\":\"lat\"},\"id\":\"4358\",\"type\":\"MercatorTickFormatter\"},{\"attributes\":{},\"id\":\"4328\",\"type\":\"LinearScale\"},{\"attributes\":{\"zoom_on_axis\":false},\"id\":\"4342\",\"type\":\"WheelZoomTool\"},{\"attributes\":{\"attribution\":\"&copy; <a href=\\\"https://www.openstreetmap.org/copyright\\\">OpenStreetMap</a> contributors\",\"url\":\"https://c.tile.openstreetmap.org/{Z}/{X}/{Y}.png\"},\"id\":\"4381\",\"type\":\"WMTSTileSource\"},{\"attributes\":{\"callback\":null,\"formatters\":{\"$x\":{\"id\":\"4405\"},\"$y\":{\"id\":\"4406\"}},\"renderers\":[{\"id\":\"4395\"}],\"tags\":[\"hv_created\"],\"tooltips\":[[\"Lng\",\"$x{custom}\"],[\"Lat\",\"$y{custom}\"],[\"City\",\"@{City}\"],[\"Max Temp\",\"@{Max_Temp}\"],[\"Hotel Name\",\"@{Hotel_Name}\"],[\"Country\",\"@{Country}\"],[\"Current Description\",\"@{Current_Description}\"]]},\"id\":\"4320\",\"type\":\"HoverTool\"},{\"attributes\":{},\"id\":\"4368\",\"type\":\"AllLabels\"},{\"attributes\":{\"dimension\":\"lon\"},\"id\":\"4356\",\"type\":\"MercatorTickFormatter\"},{\"attributes\":{\"end\":15677453.380491223,\"min_interval\":5,\"reset_end\":15677453.380491223,\"reset_start\":-11599592.913843615,\"start\":-11599592.913843615,\"tags\":[[[\"Lat\",\"Lat\",null]]]},\"id\":\"4317\",\"type\":\"Range1d\"},{\"attributes\":{\"code\":\"\\n        var projections = Bokeh.require(\\\"core/util/projections\\\");\\n        var x = special_vars.data_x\\n        var y = special_vars.data_y\\n        var coords = projections.wgs84_mercator.invert(x, y)\\n        return \\\"\\\" + (coords[0]).toFixed(4)\\n    \"},\"id\":\"4405\",\"type\":\"CustomJSHover\"},{\"attributes\":{\"data\":{\"City\":[\"Mataura\",\"Ushuaia\",\"New Norfolk\",\"Punta Arenas\",\"Alliance\",\"Albany\",\"San Jose\",\"Esil\",\"Skwierzyna\",\"Olga\",\"Saint George\",\"Tuatapere\",\"Bereznik\",\"Launceston\",\"Lakes Entrance\",\"Bethel\",\"Portland\",\"Palmer\",\"Port Hardy\",\"Kaitangata\",\"Ileza\",\"Komsomolets\",\"Weirton\",\"Fortuna\",\"Havoysund\",\"Olafsvik\",\"Andenes\",\"Prince Rupert\",\"Te Anau\",\"Shizunai\",\"Tabory\",\"Breytovo\",\"Half Moon Bay\",\"Lompoc\",\"Murmashi\",\"Sternberk\",\"Svetlaya\",\"Iwanai\",\"San Ramon\",\"Ust-Kulom\",\"Vestmannaeyjar\",\"Eucaliptus\",\"Grindavik\",\"Redmond\",\"Noshiro\",\"Marienburg\",\"Atocha\",\"Zapolyarnyy\",\"Shihezi\",\"Nantucket\",\"Karasjok\",\"North Branford\",\"Bjornevatn\",\"Birobidzhan\",\"Arosa\"],\"Country\":[\"NZ\",\"AR\",\"AU\",\"CL\",\"US\",\"US\",\"US\",\"KZ\",\"PL\",\"RU\",\"US\",\"NZ\",\"RU\",\"AU\",\"AU\",\"US\",\"US\",\"US\",\"CA\",\"NZ\",\"RU\",\"KZ\",\"US\",\"US\",\"NO\",\"IS\",\"NO\",\"CA\",\"NZ\",\"JP\",\"RU\",\"RU\",\"US\",\"US\",\"RU\",\"CZ\",\"RU\",\"JP\",\"US\",\"RU\",\"IS\",\"BO\",\"IS\",\"US\",\"JP\",\"PL\",\"BO\",\"RU\",\"CN\",\"US\",\"NO\",\"US\",\"NO\",\"RU\",\"CH\"],\"Current_Description\":[\"few clouds\",\"few clouds\",\"overcast clouds\",\"broken clouds\",\"few clouds\",\"few clouds\",\"few clouds\",\"overcast clouds\",\"moderate rain\",\"overcast clouds\",\"clear sky\",\"clear sky\",\"scattered clouds\",\"scattered clouds\",\"clear sky\",\"overcast clouds\",\"overcast clouds\",\"broken clouds\",\"light intensity shower rain\",\"scattered clouds\",\"clear sky\",\"overcast clouds\",\"clear sky\",\"scattered clouds\",\"overcast clouds\",\"overcast clouds\",\"broken clouds\",\"clear sky\",\"few clouds\",\"overcast clouds\",\"broken clouds\",\"few clouds\",\"few clouds\",\"few clouds\",\"clear sky\",\"overcast clouds\",\"clear sky\",\"overcast clouds\",\"clear sky\",\"clear sky\",\"fog\",\"few clouds\",\"mist\",\"light rain\",\"overcast clouds\",\"overcast clouds\",\"few clouds\",\"overcast clouds\",\"few clouds\",\"few clouds\",\"overcast clouds\",\"clear sky\",\"broken clouds\",\"broken clouds\",\"broken clouds\"],\"Hotel_Name\":[\"No hotel found\",\"Arakur\",\"Rosie's Inn\",\"Ainil\",\"Comfort Inn\",\"No hotel found\",\"Four Points by Sheraton San Jose Downtown\",\"\\u0422\\u0443\\u043c\\u0430\\u0440\",\"Dom nad Rzek\\u0105\",\"\\u0433\\u043e\\u0441\\u0442\\u0438\\u043d\\u0438\\u0446\\u0430 \\u0420\\u043e\\u0441\\u041c\\u043e\\u0440\\u041f\\u043e\\u0440\\u0442\\u0430\",\"Quality Inn\",\"No hotel found\",\"\\u0413\\u043e\\u0441\\u0442\\u0438\\u043d\\u0435\\u0447\\u043d\\u044b\\u0435 \\u0434\\u043e\\u043c\\u0438\\u043a\\u0438\",\"Launceston Central Apartment Hotel\",\"Central Hotel\",\"Hampton Inn Danbury\",\"Hotel Vintage\",\"No hotel found\",\"No hotel found\",\"No hotel found\",\"No hotel found\",\"\\u0416\\u0435\\u043c\\u0447\\u0443\\u0436\\u0438\\u043d\\u0430\",\"Holiday Inn\",\"Comfort Inn & Suites Redwood Country\",\"Hav\\u00f8ysund Hotell\",\"North Star Hotel Sn\\u00e6fellsnes\",\"Hotell Marena\",\"The Pacific Inn\",\"Lakeside Motels & Apartments\",\"\\u30db\\u30c6\\u30eb \\u30a2\\u30cd\\u30c3\\u30af\\u30b9\\u30a4\\u30f3\",\"No hotel found\",\"\\u0421\\u0438\\u0442\\u0438\\u043d\\u043a\\u0430\",\"Quality Inn\",\"Embassy Suites by Hilton Lompoc Central Coast\",\"\\u0410\\u044d\\u0440\\u043e\\u043f\\u043e\\u0440\\u0442\",\"Hotel M\",\"No hotel found\",\"\\u30db\\u30c1\\u30eb\\u3044\\u306e\\u3046\",\"Hyatt House\",\"No hotel found\",\"Hotel Vestmannaeyjar\",\"No hotel found\",\"Northern Light Inn\",\"Extended Stay America - Seattle - Redmond\",\"\\u99c5\\u524d\\u65c5\\u9928\",\"Dedal\",\"Wilkafer\",\"\\u041e\\u0442\\u0435\\u043b\\u044c \\u041f\\u0435\\u0447\\u0435\\u043d\\u0433\\u0430\",\"\\u5929\\u5bcc\\u996d\\u5e97\",\"No hotel found\",\"Scandic Karasjok\",\"Days Inn\",\"Hesseng sommerhotell\",\"\\u041c\\u0438\\u043d\\u0438-\\u0433\\u043e\\u0441\\u0442\\u0438\\u043d\\u0438\\u0446\\u0430\",\"Hotel Ramoz\"],\"Lat\":{\"__ndarray__\":\"+Jc93xQrVsFnWNqigu9bwVR8Nus2I1TBe9ToDHq+WsHPSb0crBJTQZJUlu44CFRBvj7QPF4dUUFn7/FV6ehZQQKLmvU/W1pBMzWLFM2yVEHTYNa7Pv1QQU92mRvCIVbBgERSHi1KYUGQVZk36F9Twc0KfrS0Z1HBDVI9LnxUU0EESnb7msJVQeuR3SY4x1NBvmu13mEOWUEPJWPVETlWwc+Ejf7OeWBByUdvfiQrW0GvmBKWistSQTOO5esp5VJB5HAe5eW+ZUEFxdChC0ZiQQZIiUFssWRB8G/opsqUW0Eej+KqELJVwYUG+QD+4FNBXNYfTwDQXkE9b/frPaJeQbSbnUpdLlFBOSiF5f9kT0Gi1upzhmVkQQuE4Qe5aVhBrNb4Op9hVkHjsvIEqz9UQaE5fOPGWVFBISlmWaHBYEHVrDhQ5JBhQeWv/KbfWD7BbG79+NPBYUG1MJ+Z7RZXQeP2NDfgrFJBz5CFkL9gW0GggteMGzBCwWcumiMEwWRBpbLVdswGVUEi4nENykdTQcz4nTDDyWRBBM6r1StOU0H6sV13LOhkQYJPqV24zldB+gb9L3qHVkE=\",\"dtype\":\"float64\",\"order\":\"little\",\"shape\":[55]},\"Lng\":{\"__ndarray__\":\"jAI6/lPtcUGd0idO7ABdwcgaOXNoOW9BXQCyu2IdXsGWZqBvhzhhwckPE+7laF/BO2CRKqHhacGbFMFu1DJcQSKzGa/fVjpB7JFSm6y5bEGaJZOF4x1owRPqIDk7zXFBORJ28LciUkFxHGJDRz9vQbuDJTKKa29B9dc2Rt4sX8FK/bmDFwxqwZN3cIPitl7BYlhRzO8Na8FtWC3sBAhyQUTmOPpopFJBEypYdr5bWkFXG07DdRxhwViuQe2YXGrBfSXexRPyREFhspNV9iNEwdBkX2ZjYTtBnBOC5ZOra8Eas0OaI85xQbzJClpiOm5BJDckXjRpW0HnRohK9hNQQeIWIy2i/mnBc4DhAoSTacF72m+8591LQVWzQb1IYj1B1a5/+PBebUHqxGVmZNVtQf2qIhsk5mnBnKpfbq/MVkGvZUZI3DdBweqqfyrFq1zBw76lmJMNQ8F8tTzm8O1pwQlKkdQLu21BfSQ2tscoQEGRFLFOQCBcwd8UeSGFK0pB+GS25FtEYkHOb0UpjMRdwTA9kuWqqkVBON0SspDmXsHCLo7ETHdJQd2CocmGOmxBO/QkqJ1vMEE=\",\"dtype\":\"float64\",\"order\":\"little\",\"shape\":[55]},\"Max_Temp\":{\"__ndarray__\":\"j8L1KFyPRkCuR+F6FO5HQBSuR+F69EhASOF6FK4nSEDhehSuR2FGQDMzMzMz00RApHA9CtejR0DD9Shcj+JFQDMzMzMzc0dAcT0K16NQR0CamZmZmflGQFyPwvUo/EdAw/UoXI+iREAzMzMzMxNIQBSuR+F6lEdA4XoUrkeBR0AfhetRuN5EQJqZmZmZ+UZAZmZmZmZmRUAfhetRuB5IQPYoXI/CdUZAuB6F61F4SEBxPQrXo/BGQFK4HoXrkUVAPQrXo3CdREDXo3A9CpdGQPYoXI/CdUdAuB6F61FYRECkcD0K14NHQHE9Ctej0EVAmpmZmZmZREA9CtejcP1HQIXrUbge5UdA16NwPQr3RkCuR+F6FE5IQJqZmZmZWUhAFK5H4Xq0REDXo3A9CvdFQIXrUbgeJUdAUrgehetxRkBSuB6F67FHQD0K16NwnUhAmpmZmZn5SEDNzMzMzGxFQIXrUbgeRUhAUrgehetxR0BmZmZmZqZFQArXo3A9CkVAzczMzMxsSEBSuB6F65FIQDMzMzMzM0VAzczMzMysR0BSuB6F65FFQB+F61G4/kVAj8L1KFyPRkA=\",\"dtype\":\"float64\",\"order\":\"little\",\"shape\":[55]},\"color\":[\"Mataura\",\"Ushuaia\",\"New Norfolk\",\"Punta Arenas\",\"Alliance\",\"Albany\",\"San Jose\",\"Esil\",\"Skwierzyna\",\"Olga\",\"Saint George\",\"Tuatapere\",\"Bereznik\",\"Launceston\",\"Lakes Entrance\",\"Bethel\",\"Portland\",\"Palmer\",\"Port Hardy\",\"Kaitangata\",\"Ileza\",\"Komsomolets\",\"Weirton\",\"Fortuna\",\"Havoysund\",\"Olafsvik\",\"Andenes\",\"Prince Rupert\",\"Te Anau\",\"Shizunai\",\"Tabory\",\"Breytovo\",\"Half Moon Bay\",\"Lompoc\",\"Murmashi\",\"Sternberk\",\"Svetlaya\",\"Iwanai\",\"San Ramon\",\"Ust-Kulom\",\"Vestmannaeyjar\",\"Eucaliptus\",\"Grindavik\",\"Redmond\",\"Noshiro\",\"Marienburg\",\"Atocha\",\"Zapolyarnyy\",\"Shihezi\",\"Nantucket\",\"Karasjok\",\"North Branford\",\"Bjornevatn\",\"Birobidzhan\",\"Arosa\"],\"size\":{\"__ndarray__\":\"4rSwiVreGkDxnhpeIKwbQC9OkflAQhxA/5U2PVrNG0BgEJ3E28IaQKSnlsiR0BlAhezuCRKBG0AjzcDbq3YaQE2U5dG3ZBtA7GfFx4BQG0A4X6GSVB0bQB/RrkJDtBtATUjIblqyGUAJRG98jsEbQPLgkyEheBtAgYnG5e9sG0CdBGWqtNcZQDhfoZJUHRtA9QTC2C4rGkBLJ6O2McgbQOKIbpcXzxpA4TZ8Lpz7G0CpeQWJChgbQKywXkC9RRpAyqAOHiqvGUAnrbfu7OIaQCcEGJA2ZhtA1cB62/aDGUBkUEsxbm4bQFiQ4f/TaxpAS/X6nsWsGUCpfvN+ALUbQF910qTxphtA7BFqz9EbG0AtlBDUauMbQOfQDgEG6htAtgH0bIC9GUDew5PWCoMaQH/hTbT2NhtAzczMzMzMGkCKLl6nQYkbQCk6CpzNEBxAVnEc8yZFHED3UCJNGC8aQGFwBWNG3htATMH2avhjG0CqS8k6M1IaQOY7/4GY8hlATxRXKQX1G0Ame/mROwocQLNR/A7OCxpA9q7G5EeGG0CssF5AvUUaQC3s5/eshxpA4rSwiVreGkA=\",\"dtype\":\"float64\",\"order\":\"little\",\"shape\":[55]}},\"selected\":{\"id\":\"4388\"},\"selection_policy\":{\"id\":\"4400\"}},\"id\":\"4387\",\"type\":\"ColumnDataSource\"},{\"attributes\":{},\"id\":\"4330\",\"type\":\"LinearScale\"},{\"attributes\":{\"fill_color\":{\"field\":\"color\",\"transform\":{\"id\":\"4386\"}},\"hatch_color\":{\"field\":\"color\",\"transform\":{\"id\":\"4386\"}},\"line_color\":{\"field\":\"color\",\"transform\":{\"id\":\"4386\"}},\"size\":{\"field\":\"size\"},\"x\":{\"field\":\"Lng\"},\"y\":{\"field\":\"Lat\"}},\"id\":\"4393\",\"type\":\"Scatter\"},{\"attributes\":{},\"id\":\"4341\",\"type\":\"PanTool\"},{\"attributes\":{\"end\":21293956.20050547,\"min_interval\":5,\"reset_end\":21293956.20050547,\"reset_start\":-16893908.611563303,\"start\":-16893908.611563303,\"tags\":[[[\"Lng\",\"Lng\",null]]]},\"id\":\"4316\",\"type\":\"Range1d\"},{\"attributes\":{\"margin\":[5,5,5,5],\"name\":\"HSpacer04570\",\"sizing_mode\":\"stretch_width\"},\"id\":\"4413\",\"type\":\"Spacer\"},{\"attributes\":{\"fill_color\":{\"field\":\"color\",\"transform\":{\"id\":\"4386\"}},\"hatch_color\":{\"field\":\"color\",\"transform\":{\"id\":\"4386\"}},\"line_color\":{\"field\":\"color\",\"transform\":{\"id\":\"4386\"}},\"size\":{\"field\":\"size\"},\"x\":{\"field\":\"Lng\"},\"y\":{\"field\":\"Lat\"}},\"id\":\"4392\",\"type\":\"Scatter\"},{\"attributes\":{},\"id\":\"4388\",\"type\":\"Selection\"},{\"attributes\":{\"margin\":[5,5,5,5],\"name\":\"HSpacer04569\",\"sizing_mode\":\"stretch_width\"},\"id\":\"4311\",\"type\":\"Spacer\"},{\"attributes\":{\"coordinates\":null,\"data_source\":{\"id\":\"4387\"},\"glyph\":{\"id\":\"4390\"},\"group\":null,\"hover_glyph\":{\"id\":\"4393\"},\"muted_glyph\":{\"id\":\"4394\"},\"nonselection_glyph\":{\"id\":\"4391\"},\"selection_glyph\":{\"id\":\"4392\"},\"view\":{\"id\":\"4396\"}},\"id\":\"4395\",\"type\":\"GlyphRenderer\"},{\"attributes\":{\"match_aspect\":true,\"overlay\":{\"id\":\"4345\"}},\"id\":\"4343\",\"type\":\"BoxZoomTool\"},{\"attributes\":{\"label\":{\"field\":\"color\"},\"renderers\":[{\"id\":\"4395\"}]},\"id\":\"4404\",\"type\":\"LegendItem\"},{\"attributes\":{\"source\":{\"id\":\"4387\"}},\"id\":\"4396\",\"type\":\"CDSView\"}],\"root_ids\":[\"4310\"]},\"title\":\"Bokeh Application\",\"version\":\"2.4.3\"}};\n",
       "    var render_items = [{\"docid\":\"e9b239ac-5b67-4a53-a444-42338a0b3b72\",\"root_ids\":[\"4310\"],\"roots\":{\"4310\":\"2b400b58-8a6d-4165-983c-78a3b05f113f\"}}];\n",
       "    root.Bokeh.embed.embed_items_notebook(docs_json, render_items);\n",
       "  }\n",
       "  if (root.Bokeh !== undefined && root.Bokeh.Panel !== undefined) {\n",
       "    embed_document(root);\n",
       "  } else {\n",
       "    var attempts = 0;\n",
       "    var timer = setInterval(function(root) {\n",
       "      if (root.Bokeh !== undefined && root.Bokeh.Panel !== undefined) {\n",
       "        clearInterval(timer);\n",
       "        embed_document(root);\n",
       "      } else if (document.readyState == \"complete\") {\n",
       "        attempts++;\n",
       "        if (attempts > 200) {\n",
       "          clearInterval(timer);\n",
       "          console.log(\"Bokeh: ERROR: Unable to run BokehJS code because BokehJS library is missing\");\n",
       "        }\n",
       "      }\n",
       "    }, 25, root)\n",
       "  }\n",
       "})(window);</script>"
      ],
      "text/plain": [
       ":Overlay\n",
       "   .Tiles.I  :Tiles   [x,y]\n",
       "   .Points.I :Points   [Lng,Lat]   (City,Max Temp,Hotel Name,Country,Current Description)"
      ]
     },
     "execution_count": 145,
     "metadata": {
      "application/vnd.holoviews_exec.v0+json": {
       "id": "4310"
      }
     },
     "output_type": "execute_result"
    }
   ],
   "source": [
    "# Configure the map plot\n",
    "map_plot = vacation_df.hvplot.points(\n",
    "    \"Lng\",\n",
    "    \"Lat\",\n",
    "    geo = True,\n",
    "    tiles = \"OSM\",\n",
    "    frame_width = 700,\n",
    "    frame_height = 500,\n",
    "    size = \"Max Temp\",\n",
    "    scale = 1,\n",
    "    color = \"City\",\n",
    "    hover_cols = [\"Hotel Name\", \"Country\", \"Current Description\"]\n",
    ")\n",
    "\n",
    "map_plot"
   ]
  },
  {
   "cell_type": "markdown",
   "metadata": {},
   "source": [
    "## From the map, *choose four cities* that a customer might want to visit. They should be close together and in the same country. Use the `loc` method to create separate DataFrames for each city on the travel route."
   ]
  },
  {
   "cell_type": "code",
   "execution_count": 146,
   "metadata": {
    "scrolled": true
   },
   "outputs": [],
   "source": [
    "# Create DataFrames for each city by filtering the 'vacation_df' using the loc method\n",
    "vacation_start =vacation_df.loc[vacation_df[\"City\"]==\"Saint George\"]\n",
    "vacation_end = vacation_df.loc[vacation_df[\"City\"]==\"Callaway\"]\n",
    "vacation_stop =vacation_df.loc[vacation_df[\"City\"]==\"Woodward\"]\n",
    "vacation_stop2 = vacation_df.loc[vacation_df[\"City\"]==\"Cerritos\"]\n",
    "vacation_stop3 = vacation_df.loc[vacation_df[\"City\"]==\"New Smyrna Beach\"]"
   ]
  },
  {
   "cell_type": "code",
   "execution_count": 147,
   "metadata": {},
   "outputs": [
    {
     "name": "stdout",
     "output_type": "stream",
     "text": [
      "            City Country  Max Temp Current Description      Lat       Lng  \\\n",
      "10  Saint George      US     45.95           clear sky  37.1041 -113.5841   \n",
      "\n",
      "     Hotel Name  \n",
      "10  Quality Inn  \n",
      "Empty DataFrame\n",
      "Columns: [City, Country, Max Temp, Current Description, Lat, Lng, Hotel Name]\n",
      "Index: []\n",
      "Empty DataFrame\n",
      "Columns: [City, Country, Max Temp, Current Description, Lat, Lng, Hotel Name]\n",
      "Index: []\n",
      "Empty DataFrame\n",
      "Columns: [City, Country, Max Temp, Current Description, Lat, Lng, Hotel Name]\n",
      "Index: []\n",
      "Empty DataFrame\n",
      "Columns: [City, Country, Max Temp, Current Description, Lat, Lng, Hotel Name]\n",
      "Index: []\n"
     ]
    }
   ],
   "source": [
    "print(vacation_start.head())\n",
    "print(vacation_end.head())\n",
    "print(vacation_stop.head())\n",
    "print(vacation_stop2.head())\n",
    "print(vacation_stop3.head())"
   ]
  },
  {
   "cell_type": "markdown",
   "metadata": {},
   "source": [
    "## Use the Pandas `concat` function to merge the DataFrame from each city in the itinerary to create a new DataFrame named `itinerary_df` to store the itinerary details"
   ]
  },
  {
   "cell_type": "code",
   "execution_count": 148,
   "metadata": {},
   "outputs": [
    {
     "data": {
      "text/html": [
       "<div>\n",
       "<style scoped>\n",
       "    .dataframe tbody tr th:only-of-type {\n",
       "        vertical-align: middle;\n",
       "    }\n",
       "\n",
       "    .dataframe tbody tr th {\n",
       "        vertical-align: top;\n",
       "    }\n",
       "\n",
       "    .dataframe thead th {\n",
       "        text-align: right;\n",
       "    }\n",
       "</style>\n",
       "<table border=\"1\" class=\"dataframe\">\n",
       "  <thead>\n",
       "    <tr style=\"text-align: right;\">\n",
       "      <th></th>\n",
       "      <th>City</th>\n",
       "      <th>Country</th>\n",
       "      <th>Max Temp</th>\n",
       "      <th>Current Description</th>\n",
       "      <th>Lat</th>\n",
       "      <th>Lng</th>\n",
       "      <th>Hotel Name</th>\n",
       "    </tr>\n",
       "  </thead>\n",
       "  <tbody>\n",
       "    <tr>\n",
       "      <th>0</th>\n",
       "      <td>Saint George</td>\n",
       "      <td>US</td>\n",
       "      <td>45.95</td>\n",
       "      <td>clear sky</td>\n",
       "      <td>37.1041</td>\n",
       "      <td>-113.5841</td>\n",
       "      <td>Quality Inn</td>\n",
       "    </tr>\n",
       "    <tr>\n",
       "      <th>1</th>\n",
       "      <td>Woodward</td>\n",
       "      <td>US</td>\n",
       "      <td>88.83</td>\n",
       "      <td>clear sky</td>\n",
       "      <td>36.4337</td>\n",
       "      <td>-99.3904</td>\n",
       "      <td>Wayfarer Inn</td>\n",
       "    </tr>\n",
       "  </tbody>\n",
       "</table>\n",
       "</div>"
      ],
      "text/plain": [
       "           City Country  Max Temp Current Description      Lat       Lng  \\\n",
       "0  Saint George      US     45.95           clear sky  37.1041 -113.5841   \n",
       "1      Woodward      US     88.83           clear sky  36.4337  -99.3904   \n",
       "\n",
       "     Hotel Name  \n",
       "0   Quality Inn  \n",
       "1  Wayfarer Inn  "
      ]
     },
     "execution_count": 148,
     "metadata": {},
     "output_type": "execute_result"
    }
   ],
   "source": [
    "# Use the Pandas concat function to create a new DataFrame to store the itinerary details.\n",
    "itinerary_df = pd.concat([vacation_start, vacation_stop1, vacation_stop2, vacation_stop3, vacation_end], ignore_index=True)\n",
    "\n",
    "# # Display sample data\n",
    "itinerary_df.head()"
   ]
  },
  {
   "cell_type": "markdown",
   "metadata": {},
   "source": [
    "## Use the Pandas `copy` function to create a new DataFrame named `waypoints_df` to store the longitude and latitude for each city in `itinerary_df`"
   ]
  },
  {
   "cell_type": "code",
   "execution_count": 149,
   "metadata": {},
   "outputs": [
    {
     "data": {
      "text/html": [
       "<div>\n",
       "<style scoped>\n",
       "    .dataframe tbody tr th:only-of-type {\n",
       "        vertical-align: middle;\n",
       "    }\n",
       "\n",
       "    .dataframe tbody tr th {\n",
       "        vertical-align: top;\n",
       "    }\n",
       "\n",
       "    .dataframe thead th {\n",
       "        text-align: right;\n",
       "    }\n",
       "</style>\n",
       "<table border=\"1\" class=\"dataframe\">\n",
       "  <thead>\n",
       "    <tr style=\"text-align: right;\">\n",
       "      <th></th>\n",
       "      <th>Lng</th>\n",
       "      <th>Lat</th>\n",
       "    </tr>\n",
       "  </thead>\n",
       "  <tbody>\n",
       "    <tr>\n",
       "      <th>0</th>\n",
       "      <td>-113.5841</td>\n",
       "      <td>37.1041</td>\n",
       "    </tr>\n",
       "    <tr>\n",
       "      <th>1</th>\n",
       "      <td>-99.3904</td>\n",
       "      <td>36.4337</td>\n",
       "    </tr>\n",
       "  </tbody>\n",
       "</table>\n",
       "</div>"
      ],
      "text/plain": [
       "        Lng      Lat\n",
       "0 -113.5841  37.1041\n",
       "1  -99.3904  36.4337"
      ]
     },
     "execution_count": 149,
     "metadata": {},
     "output_type": "execute_result"
    }
   ],
   "source": [
    "# Create a Pandas DataFrame to store the latitude and longitude for each city in the itineray\n",
    "waypoints_df = itinerary_df[[ 'Lng', 'Lat']].copy()\n",
    "\n",
    "# Display sample data\n",
    "waypoints_df.head()"
   ]
  },
  {
   "cell_type": "markdown",
   "metadata": {},
   "source": [
    "## Use GeoViews to create map that shows the four cities in the itinerary"
   ]
  },
  {
   "cell_type": "code",
   "execution_count": 150,
   "metadata": {},
   "outputs": [],
   "source": [
    "# Configure the map plot by using the itineraty_df\n",
    "# waypoints_map = # YOUR CODE HERE"
   ]
  },
  {
   "cell_type": "code",
   "execution_count": 151,
   "metadata": {},
   "outputs": [],
   "source": [
    "# Display the route_map\n",
    "# YOUR CODE HERE"
   ]
  },
  {
   "cell_type": "markdown",
   "metadata": {},
   "source": [
    "## Next, you'll use the Geoapify Routing API to find a route between the cities in the itinerary. Review the code that sets the initial parameters and fetches the coordinates from each city to define the `waypoints` parameter by using a `for` loop"
   ]
  },
  {
   "cell_type": "code",
   "execution_count": 133,
   "metadata": {},
   "outputs": [],
   "source": [
    "# Set parameters to trace the route\n",
    "radius = 5000\n",
    "params = {\n",
    "    \"mode\":\"drive\",\n",
    "    \"apiKey\": geoapify_key,\n",
    "}"
   ]
  },
  {
   "cell_type": "code",
   "execution_count": 134,
   "metadata": {},
   "outputs": [
    {
     "data": {
      "text/plain": [
       "{'mode': 'drive',\n",
       " 'apiKey': '',\n",
       " 'waypoints': '37.1041,-113.5841|36.4337,-99.3904'}"
      ]
     },
     "execution_count": 134,
     "metadata": {},
     "output_type": "execute_result"
    }
   ],
   "source": [
    "# Set an empty waypoints String variable\n",
    "waypoints = \"\"\n",
    "\n",
    "# Iterate through the route_df DataFrame to define the waypoints\n",
    "for index, row in waypoints_df.iterrows():\n",
    "    waypoints = waypoints + str(row[\"Lat\"]) + \",\" + str(row[\"Lng\"]) + \"|\"\n",
    "\n",
    "# Delete the last character from the string\n",
    "waypoints = waypoints[:-1]\n",
    "\n",
    "# Add the waypoints to the params dictionary\n",
    "params[\"waypoints\"] = waypoints\n",
    "\n",
    "# Display the params dictionary\n",
    "params"
   ]
  },
  {
   "cell_type": "markdown",
   "metadata": {},
   "source": [
    "## Use the Geoapify Routing API to retrieve the route's directions for your itinerary"
   ]
  },
  {
   "cell_type": "code",
   "execution_count": 4,
   "metadata": {},
   "outputs": [],
   "source": [
    "# Set up the base URL for the Geoapify Places API.\n",
    "base_url = \"https://api.geoapify.com/v1/routing\"\n",
    "\n",
    "# Make request and retrieve the JSON data by using the params dictionaty\n",
    "route_response = # YOUR CODE HERE\n",
    "\n",
    "# Convert the API response to JSON format\n",
    "route_response = # YOUR CODE HERE"
   ]
  },
  {
   "cell_type": "markdown",
   "metadata": {},
   "source": [
    "## From the JSON response, store the route's legs coordinates in a variable called `legs`"
   ]
  },
  {
   "cell_type": "code",
   "execution_count": 3,
   "metadata": {
    "scrolled": true,
    "tags": []
   },
   "outputs": [],
   "source": [
    "# Fetch the route's legs coordinates from the JSON reponse\n",
    "legs = # YOUR CODE HERE"
   ]
  },
  {
   "cell_type": "markdown",
   "metadata": {},
   "source": [
    "## Loop through the route legs coordinates to fetch the latitude and longitude for each step. Store the latitude and longitude value into two Python lists names `longitude` and `latitude`"
   ]
  },
  {
   "cell_type": "code",
   "execution_count": 137,
   "metadata": {},
   "outputs": [],
   "source": [
    "# Create and empty list to store the longitude of each step\n",
    "# YOUR CODE HERE\n",
    "\n",
    "# Create and empty list to store the latitude of step\n",
    "# YOUR CODE HERE\n",
    "\n",
    "# Loop through the legs coordinates to fetch the latitude and longitude for each step\n",
    "# YOUR CODE HERE"
   ]
  },
  {
   "cell_type": "markdown",
   "metadata": {},
   "source": [
    "## Use the `longitude` and `latitude` Python lists to create a new DataFrame named `route_df`"
   ]
  },
  {
   "cell_type": "code",
   "execution_count": 2,
   "metadata": {},
   "outputs": [],
   "source": [
    "# Create an empty DataFrame to store the steps' coordinates\n",
    "route_df = # YOUR CODE HERE\n",
    "\n",
    "# Add the steps' longitude and latitude from each step as columns to the DataFrame\n",
    "# YOUR CODE HERE\n",
    "\n",
    "# Display sample data\n",
    "# YOUR CODE HERE"
   ]
  },
  {
   "cell_type": "markdown",
   "metadata": {},
   "source": [
    "##  Use the GeoViews `Path` function to configure a line plot by using `route_df`. Set a custom color and width for the line that may contrast with the map"
   ]
  },
  {
   "cell_type": "code",
   "execution_count": 1,
   "metadata": {},
   "outputs": [],
   "source": [
    "# # Configure the route path by using the GeoViews' Path function\n",
    "route_path = # YOUR CODE HERE"
   ]
  },
  {
   "cell_type": "code",
   "execution_count": 140,
   "metadata": {},
   "outputs": [],
   "source": [
    "# Display a composed plot by using the route_map and route_path objects\n",
    "# YOUR CODE HERE"
   ]
  },
  {
   "cell_type": "code",
   "execution_count": null,
   "metadata": {},
   "outputs": [],
   "source": []
  },
  {
   "cell_type": "code",
   "execution_count": null,
   "metadata": {},
   "outputs": [],
   "source": []
  }
 ],
 "metadata": {
  "kernelspec": {
   "display_name": "Python 3 (ipykernel)",
   "language": "python",
   "name": "python3"
  },
  "language_info": {
   "codemirror_mode": {
    "name": "ipython",
    "version": 3
   },
   "file_extension": ".py",
   "mimetype": "text/x-python",
   "name": "python",
   "nbconvert_exporter": "python",
   "pygments_lexer": "ipython3",
   "version": "3.7.13"
  },
  "latex_envs": {
   "LaTeX_envs_menu_present": true,
   "autoclose": false,
   "autocomplete": true,
   "bibliofile": "biblio.bib",
   "cite_by": "apalike",
   "current_citInitial": 1,
   "eqLabelWithNumbers": true,
   "eqNumInitial": 1,
   "hotkeys": {
    "equation": "Ctrl-E",
    "itemize": "Ctrl-I"
   },
   "labels_anchors": false,
   "latex_user_defs": false,
   "report_style_numbering": false,
   "user_envs_cfg": false
  }
 },
 "nbformat": 4,
 "nbformat_minor": 4
}
